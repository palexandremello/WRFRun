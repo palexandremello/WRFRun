{
 "cells": [
  {
   "cell_type": "code",
   "execution_count": 1,
   "metadata": {
    "collapsed": true
   },
   "outputs": [],
   "source": [
    "import numpy as np\n",
    "import matplotlib.pyplot as plt\n",
    "import matplotlib as mpl\n",
    "import pyproj\n",
    "import cartopy.crs as ccrs\n",
    "from cartopy.feature import NaturalEarthFeature, OCEAN, LAKES\n",
    "\n",
    "import shapely.geometry as sgeom\n",
    "from copy import copy\n",
    "from cartopy.mpl.gridliner import LONGITUDE_FORMATTER, LATITUDE_FORMATTER\n",
    "\n",
    "from matplotlib.font_manager import FontProperties\n",
    "\n",
    "import netCDF4 as nc\n",
    "\n",
    "import re  # regular expression\n",
    "\n",
    "%matplotlib inline"
   ]
  },
  {
   "cell_type": "code",
   "execution_count": 2,
   "metadata": {
    "collapsed": false
   },
   "outputs": [],
   "source": [
    "def get_wps_param_value(wps_file, param_name, noutput, vartype):\n",
    "    with open(wps_file, 'r') as file:\n",
    "        for line in file.readlines():\n",
    "            words = re.split('=|\\s+|,|\\'', line)\n",
    "            while '' in words:\n",
    "                words.remove('')\n",
    "            if param_name in words:\n",
    "                if noutput==1:\n",
    "                    if vartype=='float':\n",
    "                        output = float(words[1])\n",
    "                    elif vartype=='int':\n",
    "                        output = int(words[1])\n",
    "                    else:\n",
    "                        output = words[1]\n",
    "                if noutput>1:\n",
    "                    if vartype=='float':\n",
    "                        output = np.ones((noutput,1))*1.1\n",
    "                        for i in np.arange(noutput):\n",
    "                            output[i] = float(words[1+i])\n",
    "                    elif vartype=='int':\n",
    "                        output = np.ones((noutput,1))\n",
    "                        for i in np.arange(noutput):\n",
    "                            output[i] = int(words[1+i])\n",
    "                    else:\n",
    "                        output = words[1:(1+noutput)]\n",
    "                    \n",
    "    return output"
   ]
  },
  {
   "cell_type": "code",
   "execution_count": 3,
   "metadata": {
    "collapsed": false
   },
   "outputs": [],
   "source": [
    "def get_proj_lcc(wps_file):\n",
    "    ref_lat = get_wps_param_value(wps_file, 'ref_lat', 1, 'float')\n",
    "    ref_lon = get_wps_param_value(wps_file, 'ref_lon', 1, 'float')\n",
    "    par_lat1 = get_wps_param_value(wps_file, 'truelat1', 1, 'float')\n",
    "    par_lat2 = get_wps_param_value(wps_file, 'truelat2', 1, 'float')\n",
    "    standard_lon = get_wps_param_value(wps_file, 'stand_lon', 1, 'float')\n",
    "    \n",
    "    lccproj = ccrs.LambertConformal(central_longitude=ref_lon, central_latitude=ref_lat,\n",
    "                                    standard_parallels=(par_lat1, par_lat2), globe=None, cutoff=10)\n",
    "    return lccproj"
   ]
  },
  {
   "cell_type": "code",
   "execution_count": 4,
   "metadata": {
    "collapsed": false
   },
   "outputs": [],
   "source": [
    "def calc_corner_point_latlon(center_lat, center_lon, e_we, e_ns, dx, dy, wpsproj, latlonproj, loc):\n",
    "    center_x, center_y = wpsproj.transform_point(center_lon, center_lat, latlonproj)\n",
    "    if loc=='ll':\n",
    "        xpt = center_x - dx*e_we/2.0\n",
    "        ypt = center_y - dy*e_ns/2.0\n",
    "    elif loc=='lr':\n",
    "        xpt = center_x + dx*e_we/2.0\n",
    "        ypt = center_y - dy*e_ns/2.0\n",
    "    elif loc=='ul':\n",
    "        xpt = center_x - dx*e_we/2.0\n",
    "        ypt = center_y + dy*e_ns/2.0\n",
    "    elif loc=='ur':\n",
    "        xpt = center_x + dx*e_we/2.0\n",
    "        ypt = center_y + dy*e_ns/2.0\n",
    "    corner_lon, corner_lat = latlonproj.transform_point(xpt, ypt, wpsproj)\n",
    "    \n",
    "    return corner_lon, corner_lat"
   ]
  },
  {
   "cell_type": "code",
   "execution_count": 5,
   "metadata": {
    "collapsed": true
   },
   "outputs": [],
   "source": [
    "def calc_center_point_latlon(corner_lat_parent, corner_lon_parent, dx_parent, dy_parent, e_we, e_ns, dx, dy, i, j, wpsproj, latlonproj):\n",
    "    corner_x_parent, corner_y_parent = wpsproj.transform_point(corner_lon_parent, corner_lat_parent, latlonproj)\n",
    "    center_x_child = corner_x_parent + dx_parent*i + dx*e_we/2.0\n",
    "    center_y_child = corner_y_parent + dy_parent*j + dy*e_ns/2.0\n",
    "    center_lon_child, center_lat_child = latlonproj.transform_point(center_x_child, center_y_child, wpsproj)\n",
    "    \n",
    "    return center_lon_child, center_lat_child"
   ]
  },
  {
   "cell_type": "code",
   "execution_count": 6,
   "metadata": {
    "collapsed": false
   },
   "outputs": [],
   "source": [
    "def calc_wps_domain_info(wps_file):\n",
    "    ndomain = get_wps_param_value(wps_file, 'max_dom', 1, 'int')\n",
    "    proj_name = get_wps_param_value(wps_file, 'map_proj', 1, '')\n",
    "\n",
    "    grid_ratios = get_wps_param_value(wps_file, 'parent_grid_ratio', ndomain, 'int')\n",
    "    i_parent_start_array = get_wps_param_value(wps_file, 'i_parent_start', ndomain, 'int')\n",
    "    j_parent_start_array = get_wps_param_value(wps_file, 'j_parent_start', ndomain, 'int')\n",
    "    e_we_array = get_wps_param_value(wps_file, 'e_we', ndomain, 'int')\n",
    "    e_ns_array = get_wps_param_value(wps_file, 'e_sn', ndomain, 'int')\n",
    "    dx_d01 = get_wps_param_value(wps_file, 'dx', 1, 'float')\n",
    "    dy_d01 = get_wps_param_value(wps_file, 'dy', 1, 'float')\n",
    "    cen_lat_d01 = get_wps_param_value(wps_file, 'ref_lat', 1, 'float')\n",
    "    cen_lon_d01 = get_wps_param_value(wps_file, 'ref_lon', 1, 'float')\n",
    "    \n",
    "    center_lat_full = np.zeros((ndomain, 1))\n",
    "    center_lon_full = np.zeros((ndomain, 1))\n",
    "    half_size_ns_full = np.zeros((ndomain, 1))\n",
    "    half_size_we_full = np.zeros((ndomain, 1))\n",
    "    corner_lat_full = np.zeros((ndomain, 4)) # ll, lr, uf, ur\n",
    "    corner_lon_full = np.zeros((ndomain, 4)) # ll, lr, uf, ur\n",
    "    dx_full = np.zeros((ndomain, 1))\n",
    "    dy_full = np.zeros((ndomain, 1))\n",
    "    length_x = np.zeros((ndomain, 1))\n",
    "    length_y = np.zeros((ndomain, 1))\n",
    "       \n",
    "    # get WPS projection info\n",
    "    # LCC\n",
    "    if proj_name=='lambert':\n",
    "        wpsproj = get_proj_lcc(infile)\n",
    "    \n",
    "    # Geodetic, for lat/lon projection\n",
    "    latlonproj = ccrs.Geodetic()\n",
    "    \n",
    "    # d01\n",
    "    dx_full[0] = dx_d01\n",
    "    dy_full[0] = dy_d01\n",
    "    center_lat_full[0] = cen_lat_d01\n",
    "    center_lon_full[0] = cen_lon_d01\n",
    "    length_x[0] = dx_full[0]*e_we_array[0]\n",
    "    length_y[0] = dy_full[0]*e_ns_array[0]\n",
    "    if ndomain>1:\n",
    "        e_we = int(e_we_array[0])\n",
    "        e_ns = int(e_ns_array[0])\n",
    "    else:\n",
    "        e_we = e_we_array\n",
    "        e_ns = e_ns_array\n",
    "    corner_lon_full[0,0], corner_lat_full[0,0] = calc_corner_point_latlon(float(center_lat_full[0]), float(center_lon_full[0]),\n",
    "                                                                          e_we, e_ns, \n",
    "                                                                          float(dx_full[0]), float(dy_full[0]),\n",
    "                                                                          wpsproj, latlonproj, 'll')\n",
    "    corner_lon_full[0,1], corner_lat_full[0,1] = calc_corner_point_latlon(center_lat_full[0], center_lon_full[0],\n",
    "                                                                          e_we, e_ns,\n",
    "                                                                          dx_full[0], dy_full[0],\n",
    "                                                                          wpsproj, latlonproj, 'lr')\n",
    "    corner_lon_full[0,2], corner_lat_full[0,2] = calc_corner_point_latlon(center_lat_full[0], center_lon_full[0],\n",
    "                                                                          e_we, e_ns,\n",
    "                                                                          dx_full[0], dy_full[0],\n",
    "                                                                          wpsproj, latlonproj, 'ul')\n",
    "    corner_lon_full[0,3], corner_lat_full[0,3] = calc_corner_point_latlon(center_lat_full[0], center_lon_full[0],\n",
    "                                                                          e_we, e_ns, \n",
    "                                                                          dx_full[0], dy_full[0],\n",
    "                                                                          wpsproj, latlonproj, 'ur')\n",
    "    \n",
    "    if ndomain>1:\n",
    "        for i in np.arange(1,ndomain):\n",
    "            dx_full[i] = dx_full[i-1]/float(grid_ratios[i])\n",
    "            dy_full[i] = dy_full[i-1]/float(grid_ratios[i])\n",
    "            length_x[i] = dx_full[i]*e_we_array[i]\n",
    "            length_y[i] = dy_full[i]*e_ns_array[i]\n",
    "            center_lon_full[i], center_lat_full[i] = calc_center_point_latlon(corner_lat_full[i-1,0], corner_lon_full[i-1,0],\n",
    "                                                                              dx_full[i-1], dy_full[i-1],\n",
    "                                                                              e_we_array[i], e_ns_array[i],\n",
    "                                                                              dx_full[i], dy_full[i],\n",
    "                                                                              i_parent_start_array[i], j_parent_start_array[i],\n",
    "                                                                              wpsproj, latlonproj)\n",
    "            corner_lon_full[i,0], corner_lat_full[i,0] = calc_corner_point_latlon(center_lat_full[i], center_lon_full[i],\n",
    "                                                                              e_we_array[i], e_ns_array[i], \n",
    "                                                                              dx_full[i], dy_full[i],\n",
    "                                                                              wpsproj, latlonproj, 'll')\n",
    "            corner_lon_full[i,1], corner_lat_full[i,1] = calc_corner_point_latlon(center_lat_full[i], center_lon_full[i],\n",
    "                                                                              e_we_array[i], e_ns_array[i], \n",
    "                                                                              dx_full[i], dy_full[i],\n",
    "                                                                              wpsproj, latlonproj, 'lr')\n",
    "            corner_lon_full[i,2], corner_lat_full[i,2] = calc_corner_point_latlon(center_lat_full[i], center_lon_full[i],\n",
    "                                                                              e_we_array[i], e_ns_array[i], \n",
    "                                                                              dx_full[i], dy_full[i],\n",
    "                                                                              wpsproj, latlonproj, 'ul')\n",
    "            corner_lon_full[i,3], corner_lat_full[i,3] = calc_corner_point_latlon(center_lat_full[i], center_lon_full[i],\n",
    "                                                                              e_we_array[i], e_ns_array[i], \n",
    "                                                                              dx_full[i], dy_full[i],\n",
    "                                                                              wpsproj, latlonproj, 'ur')\n",
    "    \n",
    "    return wpsproj, latlonproj, corner_lat_full, corner_lon_full, length_x, length_y"
   ]
  },
  {
   "cell_type": "code",
   "execution_count": 7,
   "metadata": {
    "collapsed": false
   },
   "outputs": [],
   "source": [
    "def reproject_corners(corner_lons, corner_lats, wpsproj, latlonproj):\n",
    "    corner_x = np.zeros((4,1))\n",
    "    corner_y = np.zeros((4,1))\n",
    "    corner_x[0], corner_y[0] = wpsproj.transform_point(corner_lons[0], corner_lats[0], latlonproj)\n",
    "    corner_x[1], corner_y[1] = wpsproj.transform_point(corner_lons[1], corner_lats[1], latlonproj)\n",
    "    corner_x[2], corner_y[2] = wpsproj.transform_point(corner_lons[2], corner_lats[2], latlonproj)\n",
    "    corner_x[3], corner_y[3] = wpsproj.transform_point(corner_lons[3], corner_lats[3], latlonproj)\n",
    "\n",
    "    return corner_x, corner_y"
   ]
  },
  {
   "cell_type": "code",
   "execution_count": 8,
   "metadata": {
    "collapsed": true
   },
   "outputs": [],
   "source": [
    "# all these functions are necessary only when LCC projection is used.\n",
    "def find_side(ls, side):\n",
    "    \"\"\"\n",
    "    Given a shapely LineString which is assumed to be rectangular, return the\n",
    "    line corresponding to a given side of the rectangle.\n",
    "    \n",
    "    \"\"\"\n",
    "    minx, miny, maxx, maxy = ls.bounds\n",
    "    points = {'left': [(minx, miny), (minx, maxy)],\n",
    "              'right': [(maxx, miny), (maxx, maxy)],\n",
    "              'bottom': [(minx, miny), (maxx, miny)],\n",
    "              'top': [(minx, maxy), (maxx, maxy)],}\n",
    "    return sgeom.LineString(points[side])\n",
    "\n",
    "\n",
    "def lambert_xticks(ax, ticks, size):\n",
    "    \"\"\"Draw ticks on the bottom x-axis of a Lambert Conformal projection.\"\"\"\n",
    "    te = lambda xy: xy[0]\n",
    "    lc = lambda t, n, b: np.vstack((np.zeros(n) + t, np.linspace(b[2], b[3], n))).T\n",
    "    xticks, xticklabels = _lambert_ticks(ax, ticks, 'bottom', lc, te)\n",
    "    ax.xaxis.tick_bottom()\n",
    "    ax.set_xticks(xticks)\n",
    "    ax.set_xticklabels([ax.xaxis.get_major_formatter()(xtick) for xtick in xticklabels], size=size)\n",
    "    \n",
    "\n",
    "def lambert_yticks_left(ax, ticks, size):\n",
    "    \"\"\"Draw ricks on the left y-axis of a Lamber Conformal projection.\"\"\"\n",
    "    te = lambda xy: xy[1]\n",
    "    lc = lambda t, n, b: np.vstack((np.linspace(b[0], b[1], n), np.zeros(n) + t)).T\n",
    "    yticks, yticklabels = _lambert_ticks(ax, ticks, 'left', lc, te)\n",
    "    ax.yaxis.tick_left()\n",
    "    ax.set_yticks(yticks)\n",
    "    ax.set_yticklabels([ax.yaxis.get_major_formatter()(ytick) for ytick in yticklabels], size=size)\n",
    "\n",
    "    \n",
    "def lambert_yticks_right(ax, ticks, size):\n",
    "    \"\"\"Draw ricks on the left y-axis of a Lamber Conformal projection.\"\"\"\n",
    "    te = lambda xy: xy[1]\n",
    "    lc = lambda t, n, b: np.vstack((np.linspace(b[0], b[1], n), np.zeros(n) + t)).T\n",
    "    yticks, yticklabels = _lambert_ticks(ax, ticks, 'right', lc, te)\n",
    "    ax.yaxis.tick_right()\n",
    "    ax.set_yticks(yticks)\n",
    "    ax.set_yticklabels([ax.yaxis.get_major_formatter()(ytick) for ytick in yticklabels], size=size)\n",
    "\n",
    "def _lambert_ticks(ax, ticks, tick_location, line_constructor, tick_extractor):\n",
    "    \"\"\"Get the tick locations and labels for an axis of a Lambert Conformal projection.\"\"\"\n",
    "    outline_patch = sgeom.LineString(ax.outline_patch.get_path().vertices.tolist())\n",
    "    axis = find_side(outline_patch, tick_location)\n",
    "    n_steps = 30\n",
    "    extent = ax.get_extent(ccrs.PlateCarree())\n",
    "    _ticks = []\n",
    "    for t in ticks:\n",
    "        xy = line_constructor(t, n_steps, extent)\n",
    "        proj_xyz = ax.projection.transform_points(ccrs.Geodetic(), xy[:, 0], xy[:, 1])\n",
    "        xyt = proj_xyz[..., :2]\n",
    "        ls = sgeom.LineString(xyt.tolist())\n",
    "        locs = axis.intersection(ls)\n",
    "        if not locs:\n",
    "            tick = [None]\n",
    "        else:\n",
    "            tick = tick_extractor(locs.xy)\n",
    "        _ticks.append(tick[0])\n",
    "    # Remove ticks that aren't visible:    \n",
    "    ticklabels = copy(ticks)\n",
    "    while True:\n",
    "        try:\n",
    "            index = _ticks.index(None)\n",
    "        except ValueError:\n",
    "            break\n",
    "        _ticks.pop(index)\n",
    "        ticklabels.pop(index)\n",
    "    return _ticks, ticklabels"
   ]
  },
  {
   "cell_type": "markdown",
   "metadata": {},
   "source": [
    "# intermediate functions"
   ]
  },
  {
   "cell_type": "code",
   "execution_count": 9,
   "metadata": {
    "collapsed": false
   },
   "outputs": [
    {
     "ename": "FileNotFoundError",
     "evalue": "[Errno 2] No such file or directory: b'Etopo1.clipped.nc'",
     "output_type": "error",
     "traceback": [
      "\u001b[0;31m---------------------------------------------------------------------------\u001b[0m",
      "\u001b[0;31mFileNotFoundError\u001b[0m                         Traceback (most recent call last)",
      "\u001b[0;32m<ipython-input-9-6885b9d19ed5>\u001b[0m in \u001b[0;36m<module>\u001b[0;34m\u001b[0m\n\u001b[1;32m      1\u001b[0m \u001b[0metopo1file\u001b[0m \u001b[0;34m=\u001b[0m \u001b[0;34m'Etopo1.clipped.nc'\u001b[0m\u001b[0;34m\u001b[0m\u001b[0;34m\u001b[0m\u001b[0m\n\u001b[0;32m----> 2\u001b[0;31m \u001b[0mrootgroup\u001b[0m \u001b[0;34m=\u001b[0m \u001b[0mnc\u001b[0m\u001b[0;34m.\u001b[0m\u001b[0mDataset\u001b[0m\u001b[0;34m(\u001b[0m\u001b[0metopo1file\u001b[0m\u001b[0;34m,\u001b[0m \u001b[0;34m'r'\u001b[0m\u001b[0;34m,\u001b[0m \u001b[0mformat\u001b[0m\u001b[0;34m=\u001b[0m\u001b[0;34m'NETCDF4'\u001b[0m\u001b[0;34m)\u001b[0m\u001b[0;34m\u001b[0m\u001b[0;34m\u001b[0m\u001b[0m\n\u001b[0m\u001b[1;32m      3\u001b[0m \u001b[0mdem\u001b[0m \u001b[0;34m=\u001b[0m \u001b[0mrootgroup\u001b[0m\u001b[0;34m.\u001b[0m\u001b[0mvariables\u001b[0m\u001b[0;34m[\u001b[0m\u001b[0;34m'z'\u001b[0m\u001b[0;34m]\u001b[0m\u001b[0;34m[\u001b[0m\u001b[0;34m:\u001b[0m\u001b[0;34m]\u001b[0m\u001b[0;34m\u001b[0m\u001b[0;34m\u001b[0m\u001b[0m\n\u001b[1;32m      4\u001b[0m \u001b[0mdem_lat\u001b[0m \u001b[0;34m=\u001b[0m \u001b[0mrootgroup\u001b[0m\u001b[0;34m.\u001b[0m\u001b[0mvariables\u001b[0m\u001b[0;34m[\u001b[0m\u001b[0;34m'lat'\u001b[0m\u001b[0;34m]\u001b[0m\u001b[0;34m[\u001b[0m\u001b[0;34m:\u001b[0m\u001b[0;34m]\u001b[0m\u001b[0;34m\u001b[0m\u001b[0;34m\u001b[0m\u001b[0m\n\u001b[1;32m      5\u001b[0m \u001b[0mdem_lon\u001b[0m \u001b[0;34m=\u001b[0m \u001b[0mrootgroup\u001b[0m\u001b[0;34m.\u001b[0m\u001b[0mvariables\u001b[0m\u001b[0;34m[\u001b[0m\u001b[0;34m'lon'\u001b[0m\u001b[0;34m]\u001b[0m\u001b[0;34m[\u001b[0m\u001b[0;34m:\u001b[0m\u001b[0;34m]\u001b[0m\u001b[0;34m\u001b[0m\u001b[0;34m\u001b[0m\u001b[0m\n",
      "\u001b[0;32mnetCDF4/_netCDF4.pyx\u001b[0m in \u001b[0;36mnetCDF4._netCDF4.Dataset.__init__\u001b[0;34m()\u001b[0m\n",
      "\u001b[0;32mnetCDF4/_netCDF4.pyx\u001b[0m in \u001b[0;36mnetCDF4._netCDF4._ensure_nc_success\u001b[0;34m()\u001b[0m\n",
      "\u001b[0;31mFileNotFoundError\u001b[0m: [Errno 2] No such file or directory: b'Etopo1.clipped.nc'"
     ]
    }
   ],
   "source": [
    "etopo1file = 'Etopo1.clipped.nc'\n",
    "rootgroup = nc.Dataset(etopo1file, 'r', format='NETCDF4')\n",
    "dem = rootgroup.variables['z'][:]\n",
    "dem_lat = rootgroup.variables['lat'][:]\n",
    "dem_lon = rootgroup.variables['lon'][:]\n",
    "rootgroup.close()\n",
    "\n",
    "dem_lons, dem_lats = np.meshgrid(dem_lon, dem_lat)\n",
    "\n",
    "for i in np.arange(dem.shape[0]):\n",
    "    for j in np.arange(dem.shape[1]):\n",
    "        if dem[i,j]<0:\n",
    "            dem[i,j]=0"
   ]
  },
  {
   "cell_type": "markdown",
   "metadata": {},
   "source": [
    "# main code"
   ]
  },
  {
   "cell_type": "code",
   "execution_count": 17,
   "metadata": {
    "collapsed": true
   },
   "outputs": [
    {
     "name": "stdout",
     "output_type": "stream",
     "text": [
      "<cartopy.crs.LambertConformal object at 0x7fd5d914bd00> <cartopy._crs.Geodetic object at 0x7fd60c63fa40> [[25.88869289 25.88869289 42.3958896  42.3958896 ]\n",
      " [31.1163291  30.61130736 40.02484159 39.4322943 ]] [[-91.92118653 -70.13881347 -95.03809706 -67.02190294]\n",
      " [-82.92603005 -71.17671268 -83.20334325 -69.7527154 ]] [[2220000.]\n",
      " [1120000.]] [[1830000.]\n",
      " [ 970000.]]\n"
     ]
    }
   ],
   "source": [
    "infile = 'namelist.wps'\n",
    "wpsproj, latlonproj, corner_lat_full, corner_lon_full, length_x, length_y = calc_wps_domain_info(infile)\n"
   ]
  },
  {
   "cell_type": "code",
   "execution_count": 16,
   "metadata": {
    "collapsed": false
   },
   "outputs": [
    {
     "data": {
      "image/png": "[encoded data removed]",
      "text/plain": [
       "<Figure size 720x576 with 1 Axes>"
      ]
     },
     "metadata": {},
     "output_type": "display_data"
    }
   ],
   "source": [
    "fig1 = plt.figure(figsize=(10,8))\n",
    "ax1 = plt.axes(projection=wpsproj)\n",
    "\n",
    "#ax1.pcolormesh(dem_lons, dem_lats, dem, cmap='terrain', vmin=0, vmax=3000, alpha=1, transform=ccrs.PlateCarree())\n",
    "ax1.coastlines('50m', linewidth=0.8)\n",
    "ax1.add_feature(OCEAN, edgecolor='k')#, facecolor='deepskyblue')\n",
    "ax1.add_feature(LAKES, edgecolor='k')#, facecolor='deepskyblue')\n",
    "states = NaturalEarthFeature(category='cultural', scale='50m', facecolor='none',\n",
    "                             name='admin_1_states_provinces_shp')\n",
    "ax1.add_feature(states, linewidth=0.5)\n",
    "\n",
    "font0 = FontProperties()\n",
    "font0.set_weight('bold')\n",
    "\n",
    "# d01\n",
    "corner_x1, corner_y1 = reproject_corners(corner_lon_full[0,:], corner_lat_full[0,:], wpsproj, latlonproj)\n",
    "ax1.set_xlim([corner_x1[0]-length_x[0]/15, corner_x1[3]+length_x[0]/15])\n",
    "ax1.set_ylim([corner_y1[0]-length_y[0]/15, corner_y1[3]+length_y[0]/15])\n",
    "\n",
    "# d01 box\n",
    "ax1.add_patch(mpl.patches.Rectangle((corner_x1[0], corner_y1[0]),  length_x[0], length_y[0], \n",
    "                                    fill=None, lw=3, edgecolor='white', zorder=10))\n",
    "ax1.text(corner_x1[0]+length_x[0]*0.05, corner_y1[0]+length_y[0]*0.9, 'D01',\n",
    "         fontproperties=font0, size=15, color='white', zorder=10)\n",
    "\n",
    "# d02 box\n",
    "corner_x2, corner_y2 = reproject_corners(corner_lon_full[1,:], corner_lat_full[1,:], wpsproj, latlonproj)\n",
    "ax1.add_patch(mpl.patches.Rectangle((corner_x2[0], corner_y2[0]),  length_x[1], length_y[1], \n",
    "                                    fill=None, lw=3, edgecolor='gold', zorder=10))\n",
    "ax1.text(corner_x2[0]+length_x[1]*0.05, corner_y2[0]+length_y[1]*1.1, 'D02',\n",
    "         fontproperties=font0, size=15, color='gold', zorder=10)\n",
    "\n",
    "xticks = [-150, -140, -130, -120, -110, -100, -90, -80, -70, -60, -50]\n",
    "yticks = [10, 20, 30, 40, 50, 60, 70]\n",
    "ax1.gridlines(xlocs=xticks, ylocs=yticks)\n",
    "ax1.xaxis.set_major_formatter(LONGITUDE_FORMATTER) \n",
    "ax1.yaxis.set_major_formatter(LATITUDE_FORMATTER)\n",
    "lambert_xticks(ax1, xticks, 14)\n",
    "lambert_yticks_left(ax1, yticks, 14)\n",
    "\n",
    "ax1.set_title('WRF nested domain setup (2010Nash event)', size=20)\n",
    "\n",
    "#cbar_ax = fig1.add_axes([0.92, 0.2, 0.02, 0.6])\n",
    "#cb1 = mpl.colorbar.ColorbarBase(cbar_ax, cmap='terrain', ticks=[np.arange(0,1.01,0.25)], orientation='vertical')\n",
    "#cb1.set_ticklabels(['0','1000','2000', '3000', '4000'])\n",
    "#cbar_ax.tick_params(labelsize=12)\n",
    "#cbar_ax.text(1.9, -0.01, 'm', size=12)\n",
    "\n",
    "plt.show()"
   ]
  },
  {
   "cell_type": "code",
   "execution_count": 12,
   "metadata": {
    "collapsed": false
   },
   "outputs": [],
   "source": [
    "#fig1.savefig('WRF_2010Nash_domain.png', dpi=600)"
   ]
  },
  {
   "cell_type": "markdown",
   "metadata": {},
   "source": [
    "# 1997CA and 1980PNW"
   ]
  },
  {
   "cell_type": "code",
   "execution_count": 13,
   "metadata": {
    "collapsed": false
   },
   "outputs": [
    {
     "name": "stderr",
     "output_type": "stream",
     "text": [
      "/home/pmello/anaconda3/lib/python3.6/site-packages/cartopy/io/__init__.py:260: DownloadWarning: Downloading: http://naciscdn.org/naturalearth/50m/physical/ne_50m_coastline.zip\n",
      "  warnings.warn('Downloading: {}'.format(url), DownloadWarning)\n",
      "/home/pmello/anaconda3/lib/python3.6/site-packages/cartopy/io/__init__.py:260: DownloadWarning: Downloading: http://naciscdn.org/naturalearth/110m/physical/ne_110m_lakes.zip\n",
      "  warnings.warn('Downloading: {}'.format(url), DownloadWarning)\n"
     ]
    },
    {
     "ename": "FileNotFoundError",
     "evalue": "[Errno 2] No such file or directory: 'namelist.wps.1980PNW'",
     "output_type": "error",
     "traceback": [
      "\u001b[0;31m---------------------------------------------------------------------------\u001b[0m",
      "\u001b[0;31mFileNotFoundError\u001b[0m                         Traceback (most recent call last)",
      "\u001b[0;32m<ipython-input-13-8d45e10c6b14>\u001b[0m in \u001b[0;36m<module>\u001b[0;34m\u001b[0m\n\u001b[1;32m     53\u001b[0m \u001b[0;31m#--------------------------------1997CA and 1980PNW-----------------------------------------------------\u001b[0m\u001b[0;34m\u001b[0m\u001b[0;34m\u001b[0m\u001b[0;34m\u001b[0m\u001b[0m\n\u001b[1;32m     54\u001b[0m \u001b[0minfile\u001b[0m \u001b[0;34m=\u001b[0m \u001b[0;34m'namelist.wps.1980PNW'\u001b[0m\u001b[0;34m\u001b[0m\u001b[0;34m\u001b[0m\u001b[0m\n\u001b[0;32m---> 55\u001b[0;31m \u001b[0mwpsproj\u001b[0m\u001b[0;34m,\u001b[0m \u001b[0mlatlonproj\u001b[0m\u001b[0;34m,\u001b[0m \u001b[0mcorner_lat_full\u001b[0m\u001b[0;34m,\u001b[0m \u001b[0mcorner_lon_full\u001b[0m\u001b[0;34m,\u001b[0m \u001b[0mlength_x\u001b[0m\u001b[0;34m,\u001b[0m \u001b[0mlength_y\u001b[0m \u001b[0;34m=\u001b[0m \u001b[0mcalc_wps_domain_info\u001b[0m\u001b[0;34m(\u001b[0m\u001b[0minfile\u001b[0m\u001b[0;34m)\u001b[0m\u001b[0;34m\u001b[0m\u001b[0;34m\u001b[0m\u001b[0m\n\u001b[0m\u001b[1;32m     56\u001b[0m \u001b[0max2\u001b[0m \u001b[0;34m=\u001b[0m \u001b[0mplt\u001b[0m\u001b[0;34m.\u001b[0m\u001b[0msubplot\u001b[0m\u001b[0;34m(\u001b[0m\u001b[0;36m1\u001b[0m\u001b[0;34m,\u001b[0m\u001b[0;36m2\u001b[0m\u001b[0;34m,\u001b[0m\u001b[0;36m2\u001b[0m\u001b[0;34m,\u001b[0m \u001b[0mprojection\u001b[0m\u001b[0;34m=\u001b[0m\u001b[0mwpsproj\u001b[0m\u001b[0;34m)\u001b[0m\u001b[0;34m\u001b[0m\u001b[0;34m\u001b[0m\u001b[0m\n\u001b[1;32m     57\u001b[0m \u001b[0;34m\u001b[0m\u001b[0m\n",
      "\u001b[0;32m<ipython-input-6-af3789653a9c>\u001b[0m in \u001b[0;36mcalc_wps_domain_info\u001b[0;34m(wps_file)\u001b[0m\n\u001b[1;32m      1\u001b[0m \u001b[0;32mdef\u001b[0m \u001b[0mcalc_wps_domain_info\u001b[0m\u001b[0;34m(\u001b[0m\u001b[0mwps_file\u001b[0m\u001b[0;34m)\u001b[0m\u001b[0;34m:\u001b[0m\u001b[0;34m\u001b[0m\u001b[0;34m\u001b[0m\u001b[0m\n\u001b[0;32m----> 2\u001b[0;31m     \u001b[0mndomain\u001b[0m \u001b[0;34m=\u001b[0m \u001b[0mget_wps_param_value\u001b[0m\u001b[0;34m(\u001b[0m\u001b[0mwps_file\u001b[0m\u001b[0;34m,\u001b[0m \u001b[0;34m'max_dom'\u001b[0m\u001b[0;34m,\u001b[0m \u001b[0;36m1\u001b[0m\u001b[0;34m,\u001b[0m \u001b[0;34m'int'\u001b[0m\u001b[0;34m)\u001b[0m\u001b[0;34m\u001b[0m\u001b[0;34m\u001b[0m\u001b[0m\n\u001b[0m\u001b[1;32m      3\u001b[0m     \u001b[0mproj_name\u001b[0m \u001b[0;34m=\u001b[0m \u001b[0mget_wps_param_value\u001b[0m\u001b[0;34m(\u001b[0m\u001b[0mwps_file\u001b[0m\u001b[0;34m,\u001b[0m \u001b[0;34m'map_proj'\u001b[0m\u001b[0;34m,\u001b[0m \u001b[0;36m1\u001b[0m\u001b[0;34m,\u001b[0m \u001b[0;34m''\u001b[0m\u001b[0;34m)\u001b[0m\u001b[0;34m\u001b[0m\u001b[0;34m\u001b[0m\u001b[0m\n\u001b[1;32m      4\u001b[0m \u001b[0;34m\u001b[0m\u001b[0m\n\u001b[1;32m      5\u001b[0m     \u001b[0mgrid_ratios\u001b[0m \u001b[0;34m=\u001b[0m \u001b[0mget_wps_param_value\u001b[0m\u001b[0;34m(\u001b[0m\u001b[0mwps_file\u001b[0m\u001b[0;34m,\u001b[0m \u001b[0;34m'parent_grid_ratio'\u001b[0m\u001b[0;34m,\u001b[0m \u001b[0mndomain\u001b[0m\u001b[0;34m,\u001b[0m \u001b[0;34m'int'\u001b[0m\u001b[0;34m)\u001b[0m\u001b[0;34m\u001b[0m\u001b[0;34m\u001b[0m\u001b[0m\n",
      "\u001b[0;32m<ipython-input-2-ab768b08eb7b>\u001b[0m in \u001b[0;36mget_wps_param_value\u001b[0;34m(wps_file, param_name, noutput, vartype)\u001b[0m\n\u001b[1;32m      1\u001b[0m \u001b[0;32mdef\u001b[0m \u001b[0mget_wps_param_value\u001b[0m\u001b[0;34m(\u001b[0m\u001b[0mwps_file\u001b[0m\u001b[0;34m,\u001b[0m \u001b[0mparam_name\u001b[0m\u001b[0;34m,\u001b[0m \u001b[0mnoutput\u001b[0m\u001b[0;34m,\u001b[0m \u001b[0mvartype\u001b[0m\u001b[0;34m)\u001b[0m\u001b[0;34m:\u001b[0m\u001b[0;34m\u001b[0m\u001b[0;34m\u001b[0m\u001b[0m\n\u001b[0;32m----> 2\u001b[0;31m     \u001b[0;32mwith\u001b[0m \u001b[0mopen\u001b[0m\u001b[0;34m(\u001b[0m\u001b[0mwps_file\u001b[0m\u001b[0;34m,\u001b[0m \u001b[0;34m'r'\u001b[0m\u001b[0;34m)\u001b[0m \u001b[0;32mas\u001b[0m \u001b[0mfile\u001b[0m\u001b[0;34m:\u001b[0m\u001b[0;34m\u001b[0m\u001b[0;34m\u001b[0m\u001b[0m\n\u001b[0m\u001b[1;32m      3\u001b[0m         \u001b[0;32mfor\u001b[0m \u001b[0mline\u001b[0m \u001b[0;32min\u001b[0m \u001b[0mfile\u001b[0m\u001b[0;34m.\u001b[0m\u001b[0mreadlines\u001b[0m\u001b[0;34m(\u001b[0m\u001b[0;34m)\u001b[0m\u001b[0;34m:\u001b[0m\u001b[0;34m\u001b[0m\u001b[0;34m\u001b[0m\u001b[0m\n\u001b[1;32m      4\u001b[0m             \u001b[0mwords\u001b[0m \u001b[0;34m=\u001b[0m \u001b[0mre\u001b[0m\u001b[0;34m.\u001b[0m\u001b[0msplit\u001b[0m\u001b[0;34m(\u001b[0m\u001b[0;34m'=|\\s+|,|\\''\u001b[0m\u001b[0;34m,\u001b[0m \u001b[0mline\u001b[0m\u001b[0;34m)\u001b[0m\u001b[0;34m\u001b[0m\u001b[0;34m\u001b[0m\u001b[0m\n\u001b[1;32m      5\u001b[0m             \u001b[0;32mwhile\u001b[0m \u001b[0;34m''\u001b[0m \u001b[0;32min\u001b[0m \u001b[0mwords\u001b[0m\u001b[0;34m:\u001b[0m\u001b[0;34m\u001b[0m\u001b[0;34m\u001b[0m\u001b[0m\n",
      "\u001b[0;31mFileNotFoundError\u001b[0m: [Errno 2] No such file or directory: 'namelist.wps.1980PNW'"
     ]
    },
    {
     "data": {
      "image/png": "[encoded data removed]",
      "text/plain": [
       "<Figure size 720x360 with 1 Axes>"
      ]
     },
     "metadata": {
      "needs_background": "light"
     },
     "output_type": "display_data"
    }
   ],
   "source": [
    "fig2 = plt.figure(figsize=(10,5))\n",
    "\n",
    "\n",
    "#------------------ 1997CA----------------------------------------------------------------------------\n",
    "infile = 'namelist.wps'\n",
    "wpsproj, latlonproj, corner_lat_full, corner_lon_full, length_x, length_y = calc_wps_domain_info(infile)\n",
    "ax1 = plt.subplot(1,2,1, projection=wpsproj)\n",
    "\n",
    "#ax1.pcolormesh(dem_lons, dem_lats, dem, cmap='terrain', vmin=0, vmax=3000, alpha=1, transform=ccrs.PlateCarree())\n",
    "ax1.coastlines('50m', linewidth=0.8)\n",
    "ax1.add_feature(OCEAN, edgecolor='k')#, facecolor='deepskyblue')\n",
    "ax1.add_feature(LAKES, edgecolor='k')#, facecolor='deepskyblue')\n",
    "states = NaturalEarthFeature(category='cultural', scale='50m', facecolor='none',\n",
    "                             name='admin_1_states_provinces_shp')\n",
    "ax1.add_feature(states, linewidth=0.5)\n",
    "\n",
    "font0 = FontProperties()\n",
    "font0.set_weight('bold')\n",
    "\n",
    "# d01\n",
    "corner_x1, corner_y1 = reproject_corners(corner_lon_full[0,:], corner_lat_full[0,:], wpsproj, latlonproj)\n",
    "ax1.set_xlim([corner_x1[0]-length_x[0]/10, corner_x1[3]+length_x[0]/10])\n",
    "ax1.set_ylim([corner_y1[0]-length_y[0]/10, corner_y1[3]+length_y[0]/10])\n",
    "\n",
    "# d01 box\n",
    "ax1.add_patch(mpl.patches.Rectangle((corner_x1[0], corner_y1[0]),  length_x[0], length_y[0], \n",
    "                                    fill=None, lw=3, edgecolor='white', zorder=10))\n",
    "ax1.text(corner_x1[0]+length_x[0]*0.05, corner_y1[0]+length_y[0]*0.9, 'D01',\n",
    "         fontproperties=font0, size=15, color='white', zorder=10)\n",
    "\n",
    "# d02 box\n",
    "corner_x2, corner_y2 = reproject_corners(corner_lon_full[1,:], corner_lat_full[1,:], wpsproj, latlonproj)\n",
    "ax1.add_patch(mpl.patches.Rectangle((corner_x2[0], corner_y2[0]),  length_x[1], length_y[1], \n",
    "                                    fill=None, lw=3, edgecolor='red', zorder=10))\n",
    "ax1.text(corner_x2[0]-length_x[1]*1.5, corner_y2[0]+length_y[1]*0.4, 'D02',\n",
    "         fontproperties=font0, size=15, color='red', zorder=10)\n",
    "\n",
    "\n",
    "fig2.canvas.draw()\n",
    "\n",
    "\n",
    "xticks = [-150, -140, -130, -120, -110, -100, -90, -80]\n",
    "yticks = [20, 30, 40, 50, 60, 70]\n",
    "ax1.gridlines(xlocs=xticks, ylocs=yticks)\n",
    "ax1.xaxis.set_major_formatter(LONGITUDE_FORMATTER) \n",
    "ax1.yaxis.set_major_formatter(LATITUDE_FORMATTER)\n",
    "lambert_xticks(ax1, xticks, 14)\n",
    "lambert_yticks_left(ax1, yticks, 14)\n",
    "\n",
    "ax1.set_title('(a) WRF domain (1997CA event)', size=14)\n",
    "\n",
    "\n",
    "#--------------------------------1997CA and 1980PNW-----------------------------------------------------\n",
    "infile = 'namelist.wps.1980PNW'\n",
    "wpsproj, latlonproj, corner_lat_full, corner_lon_full, length_x, length_y = calc_wps_domain_info(infile)\n",
    "ax2 = plt.subplot(1,2,2, projection=wpsproj)\n",
    "\n",
    "ax2.pcolormesh(dem_lons, dem_lats, dem, cmap='terrain', vmin=0, vmax=3000, alpha=1, transform=ccrs.PlateCarree())\n",
    "ax2.coastlines('50m', linewidth=0.8)\n",
    "ax2.add_feature(OCEAN, edgecolor='k')#, facecolor='deepskyblue')\n",
    "ax2.add_feature(LAKES, edgecolor='k')#, facecolor='deepskyblue')\n",
    "states = NaturalEarthFeature(category='cultural', scale='50m', facecolor='none',\n",
    "                             name='admin_1_states_provinces_shp')\n",
    "ax2.add_feature(states, linewidth=0.5)\n",
    "\n",
    "font0 = FontProperties()\n",
    "font0.set_weight('bold')\n",
    "\n",
    "# d01\n",
    "corner_x1, corner_y1 = reproject_corners(corner_lon_full[0,:], corner_lat_full[0,:], wpsproj, latlonproj)\n",
    "ax2.set_xlim([corner_x1[0]-length_x[0]/10, corner_x1[3]+length_x[0]/10])\n",
    "ax2.set_ylim([corner_y1[0]-length_y[0]/10, corner_y1[3]+length_y[0]/10])\n",
    "\n",
    "# d01 box\n",
    "ax2.add_patch(mpl.patches.Rectangle((corner_x1[0], corner_y1[0]),  length_x[0], length_y[0], \n",
    "                                    fill=None, lw=3, edgecolor='white', zorder=10))\n",
    "ax2.text(corner_x1[0]+length_x[0]*0.05, corner_y1[0]+length_y[0]*0.9, 'D01',\n",
    "         fontproperties=font0, size=15, color='white', zorder=10)\n",
    "\n",
    "# d02 box\n",
    "corner_x2, corner_y2 = reproject_corners(corner_lon_full[1,:], corner_lat_full[1,:], wpsproj, latlonproj)\n",
    "ax2.add_patch(mpl.patches.Rectangle((corner_x2[0], corner_y2[0]),  length_x[1], length_y[1], \n",
    "                                    fill=None, lw=3, edgecolor='red', zorder=10))\n",
    "ax2.text(corner_x2[0]-length_x[1]*0.4, corner_y2[0]+length_y[1]*0.75, 'D02',\n",
    "         fontproperties=font0, size=15, color='red', zorder=10)\n",
    "\n",
    "\n",
    "fig2.canvas.draw()\n",
    "\n",
    "\n",
    "xticks = [-150, -140, -130, -120, -110, -100, -90, -80]\n",
    "yticks = [20, 30, 40, 50, 60, 70]\n",
    "ax2.gridlines(xlocs=xticks, ylocs=yticks)\n",
    "ax2.xaxis.set_major_formatter(LONGITUDE_FORMATTER) \n",
    "ax2.yaxis.set_major_formatter(LATITUDE_FORMATTER)\n",
    "lambert_xticks(ax2, xticks, 14)\n",
    "lambert_yticks_right(ax2, yticks, 14)\n",
    "\n",
    "ax2.set_title('(b) WRF domain (1980PNW event)', size=14)\n",
    "\n",
    "plt.show()"
   ]
  },
  {
   "cell_type": "code",
   "execution_count": 109,
   "metadata": {
    "collapsed": false
   },
   "outputs": [],
   "source": [
    "#fig2.savefig('WRF_1997CA_1980PNW_domain.png', dpi=600)"
   ]
  },
  {
   "cell_type": "code",
   "execution_count": null,
   "metadata": {
    "collapsed": true
   },
   "outputs": [],
   "source": []
  }
 ],
 "metadata": {
  "anaconda-cloud": {},
  "kernelspec": {
   "display_name": "Python 3",
   "language": "python",
   "name": "python3"
  },
  "language_info": {
   "codemirror_mode": {
    "name": "ipython",
    "version": 3
   },
   "file_extension": ".py",
   "mimetype": "text/x-python",
   "name": "python",
   "nbconvert_exporter": "python",
   "pygments_lexer": "ipython3",
   "version": "3.6.7"
  }
 },
 "nbformat": 4,
 "nbformat_minor": 2
}
